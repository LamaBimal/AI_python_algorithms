{
  "nbformat": 4,
  "nbformat_minor": 0,
  "metadata": {
    "colab": {
      "provenance": [],
      "include_colab_link": true
    },
    "kernelspec": {
      "name": "python3",
      "display_name": "Python 3"
    },
    "language_info": {
      "name": "python"
    }
  },
  "cells": [
    {
      "cell_type": "markdown",
      "metadata": {
        "id": "view-in-github",
        "colab_type": "text"
      },
      "source": [
        "<a href=\"https://colab.research.google.com/github/LamaBimal/IIMS_AI/blob/main/Case_Study(BFS_%26_A_).ipynb\" target=\"_parent\"><img src=\"https://colab.research.google.com/assets/colab-badge.svg\" alt=\"Open In Colab\"/></a>"
      ]
    },
    {
      "cell_type": "markdown",
      "source": [
        "CASE STUDY\n",
        "\n",
        "AMSWER: To solve the route planning problem from Hattisar to Tribhuvan International Airport in Python using both the uninformed search algorithm (Breadth-First Search) and the informed search algorithm (A* Search), we must first represent the road network as a graph and then implement the search algorithms.\n",
        "\n",
        "Assume we have a pre-built graph of the road network, with nodes representing places and edges representing road segments.\n",
        "\n",
        "Here's how we can put both algorithms into action:\n"
      ],
      "metadata": {
        "id": "Ju6h-dZCwNzd"
      }
    },
    {
      "cell_type": "markdown",
      "source": [
        "Uninformed Search Algorithm (Breadth-First Search)\n"
      ],
      "metadata": {
        "id": "ddaXurDFmE2n"
      }
    },
    {
      "cell_type": "code",
      "execution_count": null,
      "metadata": {
        "colab": {
          "base_uri": "https://localhost:8080/"
        },
        "id": "kDJAGp52lynu",
        "outputId": "f40710e7-b4f9-42d2-c177-6f72cdb0fad0"
      },
      "outputs": [
        {
          "output_type": "stream",
          "name": "stdout",
          "text": [
            "Uninformed Search (BFS) Shortest Path: ['Hattisar', 'Location1', 'TribhuvanAirport']\n"
          ]
        }
      ],
      "source": [
        "from queue import Queue\n",
        "\n",
        "def bfs_shortest_path(graph, start, goal):\n",
        "  visited = set()\n",
        "  queue = Queue()\n",
        "  queue.put([start])\n",
        "\n",
        "  while not queue.empty():\n",
        "    path = queue.get()\n",
        "    current_node = path[-1]\n",
        "\n",
        "    if current_node == goal:\n",
        "            return path\n",
        "\n",
        "    if current_node not in visited:\n",
        "      visited.add(current_node)\n",
        "      neighbors = graph[current_node]\n",
        "      for neighbor in neighbors:\n",
        "        new_path = list(path)\n",
        "        new_path.append(neighbor)\n",
        "        queue.put(new_path)\n",
        "\n",
        "  return None\n",
        "# Example usage\n",
        "graph = {\n",
        "    'Hattisar': ['Location1', 'Location2'],\n",
        "    'Location1': ['Location3', 'TribhuvanAirport'],\n",
        "    'Location2': ['TribhuvanAirport'],\n",
        "    'Location3': ['TribhuvanAirport'],\n",
        "    'TribhuvanAirport': []\n",
        "}\n",
        "\n",
        "start_node = 'Hattisar'\n",
        "goal_node = 'TribhuvanAirport'\n",
        "\n",
        "shortest_path = bfs_shortest_path(graph, start_node, goal_node)\n",
        "print(\"Uninformed Search (BFS) Shortest Path:\", shortest_path)"
      ]
    },
    {
      "cell_type": "markdown",
      "source": [
        "Informed Search Algorithm (A* Search)"
      ],
      "metadata": {
        "id": "y9zKk_T0u8mL"
      }
    },
    {
      "cell_type": "code",
      "source": [
        "from queue import PriorityQueue\n",
        "\n",
        "def heuristic_estimate(node, goal):\n",
        "    # Implement the heuristic function, for example, using the straight-line distance.\n",
        "    # You can use a library like geopy to calculate distances between latitude-longitude coordinates.\n",
        "    # For simplicity, let's assume the graph contains coordinates for each node.\n",
        "    return 0  # Replace this with your actual heuristic implementation.\n",
        "\n",
        "def a_star_shortest_path(graph, start, goal):\n",
        "  visited = set()\n",
        "  queue = PriorityQueue()\n",
        "  queue.put((0, start, [start]))\n",
        "\n",
        "  while not queue.empty():\n",
        "    cost, current_node, path = queue.get()\n",
        "\n",
        "    if current_node == goal:\n",
        "      return path\n",
        "\n",
        "      if current_node not in visited:\n",
        "        visited.add(current_node)\n",
        "        neighbors = graph[current_node]\n",
        "        for neighbor in neighbors:\n",
        "          new_cost = cost + 1  # In this case, all edges have the same cost (distance = 1).\n",
        "          heuristic_value = heuristic_estimate(neighbor, goal)\n",
        "          total_cost = new_cost + heuristic_value\n",
        "          new_path = list(path)\n",
        "          new_path.append(neighbor)\n",
        "          queue.put((total_cost, neighbor, new_path))\n",
        "\n",
        "  return None\n",
        "\n",
        "# Example usage\n",
        "# Assuming the graph contains coordinates for each node\n",
        "graph_with_coordinates = {\n",
        "  'Hattisar': (27.7172, 85.3240),\n",
        "  'Location1': (27.71, 85.32),\n",
        "  'Location2': (27.71, 85.34),\n",
        "  'Location3': (27.72, 85.32),\n",
        "  'TribhuvanAirport': (27.6997, 85.3592)\n",
        "}\n",
        "\n",
        "start_node = 'Hattisar'\n",
        "goal_node = 'TribhuvanAirport'\n",
        "\n",
        "shortest_path = a_star_shortest_path(graph_with_coordinates, start_node, goal_node)\n",
        "print(\"Informed Search (A* Search) Shortest Path:\", shortest_path)\n"
      ],
      "metadata": {
        "colab": {
          "base_uri": "https://localhost:8080/"
        },
        "id": "Hi9PVd1RmCOL",
        "outputId": "a9acca82-01c7-4bc3-906a-c2bd48bcdd2e"
      },
      "execution_count": null,
      "outputs": [
        {
          "output_type": "stream",
          "name": "stdout",
          "text": [
            "Informed Search (A* Search) Shortest Path: None\n"
          ]
        }
      ]
    },
    {
      "cell_type": "code",
      "source": [
        "# Import the necessary libraries\n",
        "import networkx as nx\n",
        "import matplotlib.pyplot as plt\n",
        "# Create a graph representation of the road network\n",
        "G = nx.Graph()\n",
        "# Add nodes to the graph\n",
        "G.add_node(\"Hattisar\")\n",
        "G.add_node(\"Tribhuvan Airport\")\n",
        "# Add edges to the graph\n",
        "G.add_edge(\"Hattisar\", \"Tribhuvan Airport\", weight=10)\n",
        "# Plot the graph\n",
        "nx.draw(G, with_labels=True)\n",
        "plt.show()"
      ],
      "metadata": {
        "id": "lbNH3InnvIVm",
        "colab": {
          "base_uri": "https://localhost:8080/",
          "height": 516
        },
        "outputId": "490fbba1-5cc3-4429-a4f9-389a197767ad"
      },
      "execution_count": null,
      "outputs": [
        {
          "output_type": "display_data",
          "data": {
            "text/plain": [
              "<Figure size 640x480 with 1 Axes>"
            ],
            "image/png": "[encoded data removed]"
          },
          "metadata": {}
        }
      ]
    },
    {
      "cell_type": "code",
      "source": [],
      "metadata": {
        "id": "PtArARXZSH3N"
      },
      "execution_count": null,
      "outputs": []
    }
  ]
}